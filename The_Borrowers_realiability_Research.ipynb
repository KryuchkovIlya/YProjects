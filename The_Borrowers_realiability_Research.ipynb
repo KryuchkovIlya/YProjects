{
 "cells": [
  {
   "cell_type": "markdown",
   "id": "ab2607c4",
   "metadata": {},
   "source": [
    "**Yandex Practicum Project 1**"
   ]
  },
  {
   "cell_type": "markdown",
   "id": "ac5f7ef3",
   "metadata": {},
   "source": [
    "**The Borrowers realiability Research**\n",
    "\n",
    "In this project I'll try to figure out how marital status and number of children in the family affect the fact of loan repayment  in time"
   ]
  },
  {
   "cell_type": "markdown",
   "id": "d6193b7f",
   "metadata": {},
   "source": [
    "The file contains 21525 rows and 12 columns. The columns are:\n",
    "1. **`children`** - number of children in the family\n",
    "2. **`days_employed`** - total length of service in days\n",
    "3. **`dob_yeard`** - clients age in years\n",
    "4. **`educatuion`** - clients education level\n",
    "5. **`education_id`** - education level id\n",
    "6. **`family_status`** - clients family status \n",
    "7. **`familys_status_id`** - family status id\n",
    "8. **`gender`** - clients gender\n",
    "9. **`income_type`** - clients income type\n",
    "10. **`debt`** - if client has ever had loan repayments debts\n",
    "11. **`total_income`** - clients montly income\n",
    "12. **`purpose`** - the purpose of obtaining a loan"
   ]
  },
  {
   "cell_type": "markdown",
   "id": "8a8c8fda",
   "metadata": {},
   "source": [
    "**General Data Information**"
   ]
  },
  {
   "cell_type": "markdown",
   "id": "4acbc8b0",
   "metadata": {},
   "source": [
    "**Packages Loading and Data**"
   ]
  },
  {
   "cell_type": "code",
   "execution_count": 9,
   "id": "7062c6e3",
   "metadata": {},
   "outputs": [],
   "source": [
    "import pandas as pd\n",
    "\n",
    "data = pd.read_csv(r'C:\\Users\\RUKryuchIl\\Desktop\\Мое\\Projects\\data.csv')"
   ]
  },
  {
   "cell_type": "code",
   "execution_count": 10,
   "id": "040255b6",
   "metadata": {},
   "outputs": [
    {
     "data": {
      "text/html": [
       "<div>\n",
       "<style scoped>\n",
       "    .dataframe tbody tr th:only-of-type {\n",
       "        vertical-align: middle;\n",
       "    }\n",
       "\n",
       "    .dataframe tbody tr th {\n",
       "        vertical-align: top;\n",
       "    }\n",
       "\n",
       "    .dataframe thead th {\n",
       "        text-align: right;\n",
       "    }\n",
       "</style>\n",
       "<table border=\"1\" class=\"dataframe\">\n",
       "  <thead>\n",
       "    <tr style=\"text-align: right;\">\n",
       "      <th></th>\n",
       "      <th>children</th>\n",
       "      <th>days_employed</th>\n",
       "      <th>dob_years</th>\n",
       "      <th>education</th>\n",
       "      <th>education_id</th>\n",
       "      <th>family_status</th>\n",
       "      <th>family_status_id</th>\n",
       "      <th>gender</th>\n",
       "      <th>income_type</th>\n",
       "      <th>debt</th>\n",
       "      <th>total_income</th>\n",
       "      <th>purpose</th>\n",
       "    </tr>\n",
       "  </thead>\n",
       "  <tbody>\n",
       "    <tr>\n",
       "      <th>0</th>\n",
       "      <td>1</td>\n",
       "      <td>-8437.673028</td>\n",
       "      <td>42</td>\n",
       "      <td>высшее</td>\n",
       "      <td>0</td>\n",
       "      <td>женат / замужем</td>\n",
       "      <td>0</td>\n",
       "      <td>F</td>\n",
       "      <td>сотрудник</td>\n",
       "      <td>0</td>\n",
       "      <td>253875.639453</td>\n",
       "      <td>покупка жилья</td>\n",
       "    </tr>\n",
       "    <tr>\n",
       "      <th>1</th>\n",
       "      <td>1</td>\n",
       "      <td>-4024.803754</td>\n",
       "      <td>36</td>\n",
       "      <td>среднее</td>\n",
       "      <td>1</td>\n",
       "      <td>женат / замужем</td>\n",
       "      <td>0</td>\n",
       "      <td>F</td>\n",
       "      <td>сотрудник</td>\n",
       "      <td>0</td>\n",
       "      <td>112080.014102</td>\n",
       "      <td>приобретение автомобиля</td>\n",
       "    </tr>\n",
       "    <tr>\n",
       "      <th>2</th>\n",
       "      <td>0</td>\n",
       "      <td>-5623.422610</td>\n",
       "      <td>33</td>\n",
       "      <td>Среднее</td>\n",
       "      <td>1</td>\n",
       "      <td>женат / замужем</td>\n",
       "      <td>0</td>\n",
       "      <td>M</td>\n",
       "      <td>сотрудник</td>\n",
       "      <td>0</td>\n",
       "      <td>145885.952297</td>\n",
       "      <td>покупка жилья</td>\n",
       "    </tr>\n",
       "    <tr>\n",
       "      <th>3</th>\n",
       "      <td>3</td>\n",
       "      <td>-4124.747207</td>\n",
       "      <td>32</td>\n",
       "      <td>среднее</td>\n",
       "      <td>1</td>\n",
       "      <td>женат / замужем</td>\n",
       "      <td>0</td>\n",
       "      <td>M</td>\n",
       "      <td>сотрудник</td>\n",
       "      <td>0</td>\n",
       "      <td>267628.550329</td>\n",
       "      <td>дополнительное образование</td>\n",
       "    </tr>\n",
       "    <tr>\n",
       "      <th>4</th>\n",
       "      <td>0</td>\n",
       "      <td>340266.072047</td>\n",
       "      <td>53</td>\n",
       "      <td>среднее</td>\n",
       "      <td>1</td>\n",
       "      <td>гражданский брак</td>\n",
       "      <td>1</td>\n",
       "      <td>F</td>\n",
       "      <td>пенсионер</td>\n",
       "      <td>0</td>\n",
       "      <td>158616.077870</td>\n",
       "      <td>сыграть свадьбу</td>\n",
       "    </tr>\n",
       "    <tr>\n",
       "      <th>5</th>\n",
       "      <td>0</td>\n",
       "      <td>-926.185831</td>\n",
       "      <td>27</td>\n",
       "      <td>высшее</td>\n",
       "      <td>0</td>\n",
       "      <td>гражданский брак</td>\n",
       "      <td>1</td>\n",
       "      <td>M</td>\n",
       "      <td>компаньон</td>\n",
       "      <td>0</td>\n",
       "      <td>255763.565419</td>\n",
       "      <td>покупка жилья</td>\n",
       "    </tr>\n",
       "    <tr>\n",
       "      <th>6</th>\n",
       "      <td>0</td>\n",
       "      <td>-2879.202052</td>\n",
       "      <td>43</td>\n",
       "      <td>высшее</td>\n",
       "      <td>0</td>\n",
       "      <td>женат / замужем</td>\n",
       "      <td>0</td>\n",
       "      <td>F</td>\n",
       "      <td>компаньон</td>\n",
       "      <td>0</td>\n",
       "      <td>240525.971920</td>\n",
       "      <td>операции с жильем</td>\n",
       "    </tr>\n",
       "    <tr>\n",
       "      <th>7</th>\n",
       "      <td>0</td>\n",
       "      <td>-152.779569</td>\n",
       "      <td>50</td>\n",
       "      <td>СРЕДНЕЕ</td>\n",
       "      <td>1</td>\n",
       "      <td>женат / замужем</td>\n",
       "      <td>0</td>\n",
       "      <td>M</td>\n",
       "      <td>сотрудник</td>\n",
       "      <td>0</td>\n",
       "      <td>135823.934197</td>\n",
       "      <td>образование</td>\n",
       "    </tr>\n",
       "    <tr>\n",
       "      <th>8</th>\n",
       "      <td>2</td>\n",
       "      <td>-6929.865299</td>\n",
       "      <td>35</td>\n",
       "      <td>ВЫСШЕЕ</td>\n",
       "      <td>0</td>\n",
       "      <td>гражданский брак</td>\n",
       "      <td>1</td>\n",
       "      <td>F</td>\n",
       "      <td>сотрудник</td>\n",
       "      <td>0</td>\n",
       "      <td>95856.832424</td>\n",
       "      <td>на проведение свадьбы</td>\n",
       "    </tr>\n",
       "    <tr>\n",
       "      <th>9</th>\n",
       "      <td>0</td>\n",
       "      <td>-2188.756445</td>\n",
       "      <td>41</td>\n",
       "      <td>среднее</td>\n",
       "      <td>1</td>\n",
       "      <td>женат / замужем</td>\n",
       "      <td>0</td>\n",
       "      <td>M</td>\n",
       "      <td>сотрудник</td>\n",
       "      <td>0</td>\n",
       "      <td>144425.938277</td>\n",
       "      <td>покупка жилья для семьи</td>\n",
       "    </tr>\n",
       "  </tbody>\n",
       "</table>\n",
       "</div>"
      ],
      "text/plain": [
       "   children  days_employed  dob_years education  education_id  \\\n",
       "0         1   -8437.673028         42    высшее             0   \n",
       "1         1   -4024.803754         36   среднее             1   \n",
       "2         0   -5623.422610         33   Среднее             1   \n",
       "3         3   -4124.747207         32   среднее             1   \n",
       "4         0  340266.072047         53   среднее             1   \n",
       "5         0    -926.185831         27    высшее             0   \n",
       "6         0   -2879.202052         43    высшее             0   \n",
       "7         0    -152.779569         50   СРЕДНЕЕ             1   \n",
       "8         2   -6929.865299         35    ВЫСШЕЕ             0   \n",
       "9         0   -2188.756445         41   среднее             1   \n",
       "\n",
       "      family_status  family_status_id gender income_type  debt   total_income  \\\n",
       "0   женат / замужем                 0      F   сотрудник     0  253875.639453   \n",
       "1   женат / замужем                 0      F   сотрудник     0  112080.014102   \n",
       "2   женат / замужем                 0      M   сотрудник     0  145885.952297   \n",
       "3   женат / замужем                 0      M   сотрудник     0  267628.550329   \n",
       "4  гражданский брак                 1      F   пенсионер     0  158616.077870   \n",
       "5  гражданский брак                 1      M   компаньон     0  255763.565419   \n",
       "6   женат / замужем                 0      F   компаньон     0  240525.971920   \n",
       "7   женат / замужем                 0      M   сотрудник     0  135823.934197   \n",
       "8  гражданский брак                 1      F   сотрудник     0   95856.832424   \n",
       "9   женат / замужем                 0      M   сотрудник     0  144425.938277   \n",
       "\n",
       "                      purpose  \n",
       "0               покупка жилья  \n",
       "1     приобретение автомобиля  \n",
       "2               покупка жилья  \n",
       "3  дополнительное образование  \n",
       "4             сыграть свадьбу  \n",
       "5               покупка жилья  \n",
       "6           операции с жильем  \n",
       "7                 образование  \n",
       "8       на проведение свадьбы  \n",
       "9     покупка жилья для семьи  "
      ]
     },
     "execution_count": 10,
     "metadata": {},
     "output_type": "execute_result"
    }
   ],
   "source": [
    "data.head(10) # 10 first rows"
   ]
  },
  {
   "cell_type": "code",
   "execution_count": 11,
   "id": "4c9626ef",
   "metadata": {},
   "outputs": [
    {
     "name": "stdout",
     "output_type": "stream",
     "text": [
      "<class 'pandas.core.frame.DataFrame'>\n",
      "RangeIndex: 21525 entries, 0 to 21524\n",
      "Data columns (total 12 columns):\n",
      " #   Column            Non-Null Count  Dtype  \n",
      "---  ------            --------------  -----  \n",
      " 0   children          21525 non-null  int64  \n",
      " 1   days_employed     19351 non-null  float64\n",
      " 2   dob_years         21525 non-null  int64  \n",
      " 3   education         21525 non-null  object \n",
      " 4   education_id      21525 non-null  int64  \n",
      " 5   family_status     21525 non-null  object \n",
      " 6   family_status_id  21525 non-null  int64  \n",
      " 7   gender            21525 non-null  object \n",
      " 8   income_type       21525 non-null  object \n",
      " 9   debt              21525 non-null  int64  \n",
      " 10  total_income      19351 non-null  float64\n",
      " 11  purpose           21525 non-null  object \n",
      "dtypes: float64(2), int64(5), object(5)\n",
      "memory usage: 2.0+ MB\n"
     ]
    }
   ],
   "source": [
    "data.info() # general information"
   ]
  },
  {
   "cell_type": "markdown",
   "id": "b7aea7aa",
   "metadata": {},
   "source": [
    "**Data Preparation**"
   ]
  },
  {
   "cell_type": "code",
   "execution_count": 13,
   "id": "8bb4fd65",
   "metadata": {},
   "outputs": [
    {
     "data": {
      "text/plain": [
       "children               0\n",
       "days_employed       2174\n",
       "dob_years              0\n",
       "education              0\n",
       "education_id           0\n",
       "family_status          0\n",
       "family_status_id       0\n",
       "gender                 0\n",
       "income_type            0\n",
       "debt                   0\n",
       "total_income        2174\n",
       "purpose                0\n",
       "dtype: int64"
      ]
     },
     "execution_count": 13,
     "metadata": {},
     "output_type": "execute_result"
    }
   ],
   "source": [
    "data.isna().sum() # the count of missing values for every column"
   ]
  },
  {
   "cell_type": "markdown",
   "id": "ccac1dde",
   "metadata": {},
   "source": [
    "**There are missing values in two different columns. Firstly I'll handle with missing values in `total_income`. This column contains income info. Clients income is mostly affected by income type, so I'll fill the blanks for every client with the median value by every type he or she belong to.**"
   ]
  },
  {
   "cell_type": "code",
   "execution_count": 14,
   "id": "35f35629",
   "metadata": {},
   "outputs": [],
   "source": [
    "for index in data['income_type'].unique():\n",
    "    income_median = data.loc[data['income_type'] == index, 'total_income'].median()\n",
    "    data.loc[data['income_type'] == index, 'total_income'] = data.loc[data['income_type'] == index, 'total_income'].fillna(income_median)                 "
   ]
  },
  {
   "cell_type": "markdown",
   "id": "b7eb30d0",
   "metadata": {},
   "source": [
    "**Now I'll deal with Anomalies**"
   ]
  },
  {
   "cell_type": "markdown",
   "id": "7660a720",
   "metadata": {},
   "source": [
    "**It's obviously clear, that negative values in `days_employed` table is abnormal. So I'll replase those values with its absolute values.**"
   ]
  },
  {
   "cell_type": "code",
   "execution_count": 15,
   "id": "0d02684c",
   "metadata": {},
   "outputs": [],
   "source": [
    "data['days_employed'] = data['days_employed'].abs()"
   ]
  },
  {
   "cell_type": "code",
   "execution_count": 16,
   "id": "8767a31f",
   "metadata": {},
   "outputs": [
    {
     "data": {
      "text/plain": [
       "income_type\n",
       "безработный        366413.652744\n",
       "в декрете            3296.759962\n",
       "госслужащий          2689.368353\n",
       "компаньон            1547.382223\n",
       "пенсионер          365213.306266\n",
       "предприниматель       520.848083\n",
       "сотрудник            1574.202821\n",
       "студент               578.751554\n",
       "Name: days_employed, dtype: float64"
      ]
     },
     "execution_count": 16,
     "metadata": {},
     "output_type": "execute_result"
    }
   ],
   "source": [
    "data.groupby('income_type')['days_employed'].median() # Median Value for every income_type"
   ]
  },
  {
   "cell_type": "code",
   "execution_count": 17,
   "id": "6d030ece",
   "metadata": {},
   "outputs": [
    {
     "data": {
      "text/plain": [
       "array([ 1,  0,  3,  2, -1,  4, 20,  5], dtype=int64)"
      ]
     },
     "execution_count": 17,
     "metadata": {},
     "output_type": "execute_result"
    }
   ],
   "source": [
    "data['children'].unique() # unique values for children column"
   ]
  },
  {
   "cell_type": "markdown",
   "id": "9b6b3640",
   "metadata": {},
   "source": [
    "**Let's delete rows with abnormal values (-1,20)**"
   ]
  },
  {
   "cell_type": "code",
   "execution_count": 18,
   "id": "4c6a4227",
   "metadata": {},
   "outputs": [],
   "source": [
    "data = data.loc[(data['children'] != -1) & (data['children'] != 20)]"
   ]
  },
  {
   "cell_type": "markdown",
   "id": "b47c3610",
   "metadata": {},
   "source": [
    "**Now let's fill missing values in `days_employed` column**"
   ]
  },
  {
   "cell_type": "code",
   "execution_count": 24,
   "id": "a8d0d1dd",
   "metadata": {},
   "outputs": [],
   "source": [
    "for index in data['income_type'].unique():\n",
    "    income_median = data.loc[data['income_type'] == index, 'days_employed'].median()\n",
    "    data.loc[data['income_type'] == index, 'days_employed'] = data.loc[data['income_type'] == index, 'days_employed'].fillna(income_median) # again with median values"
   ]
  },
  {
   "cell_type": "code",
   "execution_count": 25,
   "id": "3411e706",
   "metadata": {},
   "outputs": [
    {
     "data": {
      "text/plain": [
       "children            0\n",
       "days_employed       0\n",
       "dob_years           0\n",
       "education           0\n",
       "education_id        0\n",
       "family_status       0\n",
       "family_status_id    0\n",
       "gender              0\n",
       "income_type         0\n",
       "debt                0\n",
       "total_income        0\n",
       "purpose             0\n",
       "dtype: int64"
      ]
     },
     "execution_count": 25,
     "metadata": {},
     "output_type": "execute_result"
    }
   ],
   "source": [
    "data.isna().sum()"
   ]
  },
  {
   "cell_type": "markdown",
   "id": "f162e194",
   "metadata": {},
   "source": [
    "**Let's change the datatype for `total_income` column. All other datatypes're ok**"
   ]
  },
  {
   "cell_type": "code",
   "execution_count": 26,
   "id": "932a04fb",
   "metadata": {},
   "outputs": [],
   "source": [
    "data['total_income'] = data['total_income'].astype(int)"
   ]
  },
  {
   "cell_type": "markdown",
   "id": "e9e6788c",
   "metadata": {},
   "source": [
    "**Now let's deal with duplicates**"
   ]
  },
  {
   "cell_type": "code",
   "execution_count": 27,
   "id": "6e756fd8",
   "metadata": {},
   "outputs": [],
   "source": [
    "data['education'] = data['education'].str.lower() # transform all education values to lowercase"
   ]
  },
  {
   "cell_type": "code",
   "execution_count": 28,
   "id": "2fc9656a",
   "metadata": {},
   "outputs": [
    {
     "data": {
      "text/plain": [
       "71"
      ]
     },
     "execution_count": 28,
     "metadata": {},
     "output_type": "execute_result"
    }
   ],
   "source": [
    "data.duplicated().sum() # the count of duplicates row "
   ]
  },
  {
   "cell_type": "code",
   "execution_count": 29,
   "id": "92182a6c",
   "metadata": {},
   "outputs": [],
   "source": [
    "data.drop_duplicates(inplace=True) # let's delete them"
   ]
  },
  {
   "cell_type": "code",
   "execution_count": 30,
   "id": "2da32aec",
   "metadata": {},
   "outputs": [
    {
     "data": {
      "text/plain": [
       "0"
      ]
     },
     "execution_count": 30,
     "metadata": {},
     "output_type": "execute_result"
    }
   ],
   "source": [
    "data.duplicated().sum()"
   ]
  },
  {
   "cell_type": "markdown",
   "id": "f6463a08",
   "metadata": {},
   "source": [
    "**Data categorization**"
   ]
  },
  {
   "cell_type": "markdown",
   "id": "85751153",
   "metadata": {},
   "source": [
    "**Let's create some categories based on total_income_category column** \n",
    "\n",
    "0-30000 - **E**\n",
    "\n",
    "30001-50000 - **D**\n",
    "\n",
    "50001 - 200000 - **C**\n",
    "\n",
    "200001 - 1000000 - **B**\n",
    "\n",
    "more then 1000000 - **A** "
   ]
  },
  {
   "cell_type": "code",
   "execution_count": 31,
   "id": "b6dba45c",
   "metadata": {},
   "outputs": [],
   "source": [
    "def categorize_income(df):\n",
    "    \n",
    "    if df >= 0 and df <= 30000:\n",
    "        return 'E'\n",
    "    if df >= 30001 and df <= 50000:\n",
    "        return 'D'\n",
    "    if df >= 50001 and df <= 200000:\n",
    "        return 'C'\n",
    "    if df >= 200001 and df <= 1000000:\n",
    "        return 'B'\n",
    "    if df >= 1000001:\n",
    "        return 'A'"
   ]
  },
  {
   "cell_type": "code",
   "execution_count": 32,
   "id": "efa60012",
   "metadata": {},
   "outputs": [],
   "source": [
    "data['total_income_category'] = data['total_income'].apply(categorize_income) # applying new function to the dataset"
   ]
  },
  {
   "cell_type": "markdown",
   "id": "e411dc55",
   "metadata": {},
   "source": [
    "**Lets create some categories by `purpose_category` column:**\n",
    "\n",
    "1. `car operation`\n",
    "\n",
    "2. `property transactions`\n",
    "\n",
    "3. `wedding`\n",
    "\n",
    "4. `education`"
   ]
  },
  {
   "cell_type": "code",
   "execution_count": 33,
   "id": "f00a1196",
   "metadata": {},
   "outputs": [],
   "source": [
    "def categorize_purpose(df):\n",
    "    if 'авто' in df :\n",
    "        return 'car operation'\n",
    "    if 'недв' in df or 'жил' in df:\n",
    "        return 'property transactions'\n",
    "    if 'свад' in df:\n",
    "        return 'wedding'\n",
    "    if 'образ' in df:\n",
    "        return 'education'"
   ]
  },
  {
   "cell_type": "code",
   "execution_count": 34,
   "id": "c68ffec9",
   "metadata": {},
   "outputs": [],
   "source": [
    "data['purpose_category'] = data['purpose'].apply(categorize_purpose) # applying new function to the dataset"
   ]
  },
  {
   "cell_type": "markdown",
   "id": "6d5635f2",
   "metadata": {},
   "source": [
    "**Data Explorations**"
   ]
  },
  {
   "cell_type": "markdown",
   "id": "457709a5",
   "metadata": {},
   "source": [
    "**Now let's learn if there's a connection between number of children and the fact of loan repayment in time**"
   ]
  },
  {
   "cell_type": "markdown",
   "id": "0d02f145",
   "metadata": {},
   "source": [
    "**There are only values in `debt` column. `1` if ther is a debt and `0` if not**\n",
    "\n",
    "Lets group all clients by the number of children"
   ]
  },
  {
   "cell_type": "code",
   "execution_count": 35,
   "id": "f42c3a1f",
   "metadata": {},
   "outputs": [
    {
     "data": {
      "text/plain": [
       "children\n",
       "0    14091\n",
       "1     4808\n",
       "2     2052\n",
       "3      330\n",
       "4       41\n",
       "5        9\n",
       "Name: children, dtype: int64"
      ]
     },
     "execution_count": 35,
     "metadata": {},
     "output_type": "execute_result"
    }
   ],
   "source": [
    "data.groupby('children')['children'].count() # count of clients by category"
   ]
  },
  {
   "cell_type": "code",
   "execution_count": 36,
   "id": "283ff910",
   "metadata": {},
   "outputs": [
    {
     "data": {
      "text/plain": [
       "children\n",
       "0    1063\n",
       "1     444\n",
       "2     194\n",
       "3      27\n",
       "4       4\n",
       "5       0\n",
       "Name: debt, dtype: int64"
      ]
     },
     "execution_count": 36,
     "metadata": {},
     "output_type": "execute_result"
    }
   ],
   "source": [
    "data.groupby('children')['debt'].sum() # count of debtors by category"
   ]
  },
  {
   "cell_type": "markdown",
   "id": "15fda49a",
   "metadata": {},
   "source": [
    "Lets calculate the percentage of debtors for each category"
   ]
  },
  {
   "cell_type": "code",
   "execution_count": 39,
   "id": "5dc0c743",
   "metadata": {},
   "outputs": [
    {
     "data": {
      "text/plain": [
       "children\n",
       "0    7.543822297920659%\n",
       "1    9.234608985024959%\n",
       "2      9.4541910331384%\n",
       "3    8.181818181818182%\n",
       "4     9.75609756097561%\n",
       "5                  0.0%\n",
       "dtype: object"
      ]
     },
     "execution_count": 39,
     "metadata": {},
     "output_type": "execute_result"
    }
   ],
   "source": [
    "debt_ = data.groupby('children')['debt'].sum() / data.groupby('children')['children'].count() * 100\n",
    "debt_.astype(str) + '%'"
   ]
  },
  {
   "cell_type": "markdown",
   "id": "5ff758de",
   "metadata": {},
   "source": [
    "**We can observe a slight 1.5% increase depending on the number of children in the family.\n",
    "So, it can be said that the number of children does not affect the fact of repayment of the loan in time.** "
   ]
  },
  {
   "cell_type": "markdown",
   "id": "cbcce787",
   "metadata": {},
   "source": [
    "**Now let's learn if there's a connection between marriage status and in time loan repayment.**"
   ]
  },
  {
   "cell_type": "code",
   "execution_count": 41,
   "id": "94b57d73",
   "metadata": {},
   "outputs": [
    {
     "data": {
      "text/plain": [
       "array(['женат / замужем', 'гражданский брак', 'вдовец / вдова',\n",
       "       'в разводе', 'Не женат / не замужем'], dtype=object)"
      ]
     },
     "execution_count": 41,
     "metadata": {},
     "output_type": "execute_result"
    }
   ],
   "source": [
    "data['family_status'].unique() # unique values for family_status"
   ]
  },
  {
   "cell_type": "code",
   "execution_count": 42,
   "id": "49b70059",
   "metadata": {},
   "outputs": [
    {
     "data": {
      "text/plain": [
       "array([0, 1, 2, 3, 4], dtype=int64)"
      ]
     },
     "execution_count": 42,
     "metadata": {},
     "output_type": "execute_result"
    }
   ],
   "source": [
    "data['family_status_id'].unique() # unique values for family_status_id"
   ]
  },
  {
   "cell_type": "markdown",
   "id": "c030e987",
   "metadata": {},
   "source": [
    "**I'll do it the same way: calculate count of clients and debtord for every category and fint the percentage of debtors.**"
   ]
  },
  {
   "cell_type": "code",
   "execution_count": 44,
   "id": "19764bfb",
   "metadata": {},
   "outputs": [
    {
     "data": {
      "text/plain": [
       "family_status\n",
       "Не женат / не замужем    273\n",
       "в разводе                 84\n",
       "вдовец / вдова            63\n",
       "гражданский брак         385\n",
       "женат / замужем          927\n",
       "Name: debt, dtype: int64"
      ]
     },
     "execution_count": 44,
     "metadata": {},
     "output_type": "execute_result"
    }
   ],
   "source": [
    "data.groupby('family_status')['debt'].sum() # count of debtors by category "
   ]
  },
  {
   "cell_type": "code",
   "execution_count": 46,
   "id": "8d334df9",
   "metadata": {},
   "outputs": [
    {
     "data": {
      "text/plain": [
       "family_status\n",
       "Не женат / не замужем     2796\n",
       "в разводе                 1189\n",
       "вдовец / вдова             951\n",
       "гражданский брак          4134\n",
       "женат / замужем          12261\n",
       "Name: family_status, dtype: int64"
      ]
     },
     "execution_count": 46,
     "metadata": {},
     "output_type": "execute_result"
    }
   ],
   "source": [
    "data.groupby('family_status')['family_status'].count() # count of clients by category"
   ]
  },
  {
   "cell_type": "code",
   "execution_count": 51,
   "id": "77edc0b2",
   "metadata": {},
   "outputs": [
    {
     "data": {
      "text/plain": [
       "family_status\n",
       "Не женат / не замужем    9.763948497854077%\n",
       "в разводе                7.064760302775442%\n",
       "вдовец / вдова           6.624605678233439%\n",
       "гражданский брак         9.313014029995163%\n",
       "женат / замужем          7.560557866405676%\n",
       "dtype: object"
      ]
     },
     "execution_count": 51,
     "metadata": {},
     "output_type": "execute_result"
    }
   ],
   "source": [
    "debt__ = data.groupby('family_status')['debt'].sum() / data.groupby('family_status')['family_status'].count() * 100\n",
    "debt__.astype(str) + '%'"
   ]
  },
  {
   "cell_type": "markdown",
   "id": "671160e2",
   "metadata": {},
   "source": [
    "**We can see, that the percentage of debtors is higher among unmarried clients and those of them who lives in a common-low relationship**"
   ]
  },
  {
   "cell_type": "markdown",
   "id": "efb84ae2",
   "metadata": {},
   "source": [
    "**Now let's learn if there's a connection between income level and in time loan repayment.**"
   ]
  },
  {
   "cell_type": "code",
   "execution_count": 48,
   "id": "3f99070d",
   "metadata": {},
   "outputs": [
    {
     "data": {
      "text/plain": [
       "total_income_category\n",
       "A       2\n",
       "B     354\n",
       "C    1353\n",
       "D      21\n",
       "E       2\n",
       "Name: debt, dtype: int64"
      ]
     },
     "execution_count": 48,
     "metadata": {},
     "output_type": "execute_result"
    }
   ],
   "source": [
    "data.groupby('total_income_category')['debt'].sum() # count of debtors by categories"
   ]
  },
  {
   "cell_type": "code",
   "execution_count": 50,
   "id": "f4d47eee",
   "metadata": {},
   "outputs": [
    {
     "data": {
      "text/plain": [
       "total_income_category\n",
       "A       25\n",
       "B     5014\n",
       "C    15921\n",
       "D      349\n",
       "E       22\n",
       "Name: total_income_category, dtype: int64"
      ]
     },
     "execution_count": 50,
     "metadata": {},
     "output_type": "execute_result"
    }
   ],
   "source": [
    "data.groupby('total_income_category')['total_income_category'].count() # count of clients by category"
   ]
  },
  {
   "cell_type": "code",
   "execution_count": 52,
   "id": "7351cf79",
   "metadata": {},
   "outputs": [
    {
     "data": {
      "text/plain": [
       "total_income_category\n",
       "A                  8.0%\n",
       "B    7.060231352213801%\n",
       "C    8.498209911437723%\n",
       "D    6.017191977077363%\n",
       "E    9.090909090909092%\n",
       "dtype: object"
      ]
     },
     "execution_count": 52,
     "metadata": {},
     "output_type": "execute_result"
    }
   ],
   "source": [
    "debt___ = data.groupby('total_income_category')['debt'].sum() / data.groupby('total_income_category')['total_income_category'].count() * 100\n",
    "debt___.astype(str) + '%'"
   ]
  },
  {
   "cell_type": "markdown",
   "id": "2ca84c0e",
   "metadata": {},
   "source": [
    "**We can observe biggest values for `C` and `E` categories. In the first case it can be explained by a very low income level. In the second case it may occure because of very large loan amounts.\n",
    "In general, we can see that the transition to the category of well-off citizens has a positive impact on the fact of loan timely repayment.**"
   ]
  },
  {
   "cell_type": "code",
   "execution_count": null,
   "id": "363dd762",
   "metadata": {},
   "outputs": [],
   "source": []
  }
 ],
 "metadata": {
  "kernelspec": {
   "display_name": "Python 3 (ipykernel)",
   "language": "python",
   "name": "python3"
  },
  "language_info": {
   "codemirror_mode": {
    "name": "ipython",
    "version": 3
   },
   "file_extension": ".py",
   "mimetype": "text/x-python",
   "name": "python",
   "nbconvert_exporter": "python",
   "pygments_lexer": "ipython3",
   "version": "3.11.4"
  }
 },
 "nbformat": 4,
 "nbformat_minor": 5
}
